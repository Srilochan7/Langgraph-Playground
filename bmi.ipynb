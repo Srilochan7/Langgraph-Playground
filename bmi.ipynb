{
 "cells": [
  {
   "cell_type": "code",
   "execution_count": 6,
   "id": "4532707b",
   "metadata": {},
   "outputs": [],
   "source": [
    "from langgraph.graph import StateGraph, START, END\n",
    "from typing import TypedDict"
   ]
  },
  {
   "cell_type": "code",
   "execution_count": null,
   "id": "7792c259",
   "metadata": {},
   "outputs": [],
   "source": [
    "class BMIState(TypedDict):\n",
    "    weight: float  # in kilograms\n",
    "    height: float  # in meters\n",
    "    bmi: float     # Body Mass Index\n",
    "\n",
    "    "
   ]
  },
  {
   "cell_type": "code",
   "execution_count": 14,
   "id": "0a8faf28",
   "metadata": {},
   "outputs": [],
   "source": [
    "def calculate_bmi(state: BMIState) -> BMIState:\n",
    "    weight = state['weight']\n",
    "    height = state['height']\n",
    "    bmi = weight / (height ** 2)\n",
    "    state['bmi'] = round(bmi,2)\n",
    "    return state"
   ]
  },
  {
   "cell_type": "code",
   "execution_count": null,
   "id": "f2b29a7c",
   "metadata": {},
   "outputs": [],
   "source": [
    "def label(state: BMIState) -> BMIState:\n",
    "    bmi = state['bmi']\n",
    "    if bmi < 18.5:\n",
    "        label = \"Underweight\"\n",
    "    elif 18.5 <= bmi < 24.9:\n",
    "        label = \"Normal\"\n",
    "    else:\n",
    "        label = \"Overweight\"\n",
    "    return {\"label\": label}\n"
   ]
  },
  {
   "cell_type": "code",
   "execution_count": 19,
   "id": "d65a737d",
   "metadata": {},
   "outputs": [],
   "source": [
    "graph = StateGraph(BMIState, LabelState)\n",
    "\n",
    "graph.add_node('calculate_bmi', calculate_bmi)\n",
    "graph.add_node('label', label)\n",
    "\n",
    "graph.add_edge(START, 'calculate_bmi')\n",
    "graph.add_edge('calculate_bmi', 'label')\n",
    "graph.add_edge('label', END)\n",
    "\n",
    "workflow = graph.compile()\n"
   ]
  },
  {
   "cell_type": "code",
   "execution_count": 21,
   "id": "7f79e57f",
   "metadata": {},
   "outputs": [
    {
     "name": "stdout",
     "output_type": "stream",
     "text": [
      "{'weight': 80, 'height': 1.73, 'bmi': 26.73}\n",
      "Label: None\n"
     ]
    }
   ],
   "source": [
    "inital_state = {\"weight\":80, \"height\":1.73}\n",
    "\n",
    "final_state = workflow.invoke(inital_state)\n",
    "\n",
    "print(final_state)\n",
    "print(\"Label:\", final_state.get(\"label\"))"
   ]
  },
  {
   "cell_type": "code",
   "execution_count": 18,
   "id": "9b879ac1",
   "metadata": {},
   "outputs": [
    {
     "data": {
      "image/png": "[encoded data removed]",
      "text/plain": [
       "<IPython.core.display.Image object>"
      ]
     },
     "execution_count": 18,
     "metadata": {},
     "output_type": "execute_result"
    }
   ],
   "source": [
    "from IPython.display import Image \n",
    "Image(workflow.get_graph().draw_mermaid_png())"
   ]
  },
  {
   "cell_type": "code",
   "execution_count": null,
   "id": "a324b22f",
   "metadata": {},
   "outputs": [],
   "source": []
  }
 ],
 "metadata": {
  "kernelspec": {
   "display_name": "venv (3.11.9)",
   "language": "python",
   "name": "python3"
  },
  "language_info": {
   "codemirror_mode": {
    "name": "ipython",
    "version": 3
   },
   "file_extension": ".py",
   "mimetype": "text/x-python",
   "name": "python",
   "nbconvert_exporter": "python",
   "pygments_lexer": "ipython3",
   "version": "3.11.9"
  }
 },
 "nbformat": 4,
 "nbformat_minor": 5
}
